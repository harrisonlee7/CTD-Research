{
 "cells": [
  {
   "cell_type": "code",
   "execution_count": null,
   "id": "d9e72d4f",
   "metadata": {},
   "outputs": [],
   "source": [
    "import numpy as np\n",
    "import pandas as pd\n",
    "import os\n",
    "import holoviews as hv\n",
    "from holoviews import opts\n",
    "hv.extension('bokeh')\n",
    "import xarray as xr\n",
    "import re"
   ]
  },
  {
   "cell_type": "code",
   "execution_count": null,
   "id": "abcbe056",
   "metadata": {},
   "outputs": [],
   "source": [
    "#User inputs\n",
    "#name of the csv file generated from Excel Generation.ipynb\n",
    "#NOTE: Excel Generation generates a CSV post change on 8/16/22, code has been adjusted here to read CSV files\n",
    "#NOTE: These files should be in the working directory of the .ipynb file\n",
    "fileName = \"xxxx\""
   ]
  },
  {
   "cell_type": "code",
   "execution_count": null,
   "id": "32885eb6",
   "metadata": {},
   "outputs": [],
   "source": [
    "#pandas dataframe created \n",
    "#reads csv file for this\n",
    "data = pd.read_csv(fileName + \".csv\")"
   ]
  },
  {
   "cell_type": "code",
   "execution_count": null,
   "id": "78404ef5",
   "metadata": {},
   "outputs": [],
   "source": [
    "#format fileName into strings for use later. \n",
    "#index _ in string.\n",
    "\n",
    "char = \"_\"\n",
    "indices = [i.start() for i in re.finditer(char,fileName)]\n",
    "\n",
    "#grab strings\n",
    "locationName = fileName[:indices[1]]\n",
    "startDate = fileName[indices[1]+1:indices[2]]\n",
    "endDate = fileName[indices[2]+1:]\n",
    "\n",
    "#format locationName into title format\n",
    "locationName = locationName.replace(\"_\",\" \").title()"
   ]
  },
  {
   "cell_type": "code",
   "execution_count": null,
   "id": "545e25c3",
   "metadata": {},
   "outputs": [],
   "source": [
    "#converts pandas dataframe to xarray for holoviews wrapper contour plot\n",
    "time = pd.date_range(startDate, endDate)\n",
    "depth = np.arange(3000)\n",
    "\n",
    "ds = xr.Dataset(\n",
    "    data_vars=dict(\n",
    "        SoundSpeed=([\"depth\",\"time\"], data)\n",
    "    ), \n",
    "    coords=dict(\n",
    "        time=([\"time\"], time), \n",
    "        depth=([\"depth\"], depth),\n",
    "    ),\n",
    "    attrs=dict(description=\"Sound Data\"),\n",
    ")\n",
    "\n",
    "#holoviews wrapper\n",
    "hv_ds = hv.Dataset(ds)[:,:]\n",
    "soundspeed = hv_ds.to(hv.Image, kdims=[\"time\",\"depth\"])"
   ]
  },
  {
   "cell_type": "code",
   "execution_count": null,
   "id": "a1734451",
   "metadata": {},
   "outputs": [],
   "source": [
    "#holoviews tap reference: http://holoviews.org/reference/streams/bokeh/Tap.html\n",
    "\n",
    "#Stream that uses the sound speed contour plot \n",
    "#x= is for initial date it will display\n",
    "posxy = hv.streams.Tap(source=soundspeed, x=startDate)\n",
    "\n",
    "#declares function that generates scatter plot with x date and title\n",
    "def tap_date(x, y):\n",
    "    date = pd.to_datetime(x)\n",
    "    strDate = str(date.date())\n",
    "    return hv.Scatter(data[strDate], label=f'{strDate}: Speed of Sound [m/s] vs Depth[m]')\n",
    "\n",
    "#create dynamic map that takes in the tap stream and creates scatters plots based on date value from click\n",
    "tap_dmap = hv.DynamicMap(tap_date, streams=[posxy])\n",
    "\n",
    "#Generates 2 plots, contour plot & scatter plot next to it\n",
    "(soundspeed + tap_dmap).opts(\n",
    "    opts.Image(\n",
    "        title=locationName + \" Speed of Sound with Depth vs Time\",\n",
    "        width=600, height=500,\n",
    "        tools=['hover'],\n",
    "       \n",
    "        ylabel='Depth [m]',\n",
    "        invert_yaxis=True,\n",
    "        ylim=(0,250),\n",
    "       \n",
    "        xlabel='Date',\n",
    "       \n",
    "        cmap='viridis',\n",
    "        colorbar=True,\n",
    "    ),\n",
    "\n",
    "    opts.Scatter(\n",
    "        framewise=True,\n",
    "        width=375, height=500,\n",
    "        tools=['hover'],\n",
    "        invert_axes=True,\n",
    "       \n",
    "        ylabel='Speed of Sound [m/s]',\n",
    "        yaxis='right',\n",
    "        invert_yaxis=True,\n",
    "        ylim=(1460, 1520),\n",
    "       \n",
    "        xlabel='Depth',\n",
    "        xlim=(0,200),\n",
    "    ),\n",
    ")"
   ]
  },
  {
   "cell_type": "code",
   "execution_count": null,
   "id": "839456af",
   "metadata": {},
   "outputs": [],
   "source": []
  }
 ],
 "metadata": {
  "kernelspec": {
   "display_name": "Python 3.9.7 ('base')",
   "language": "python",
   "name": "python3"
  },
  "language_info": {
   "codemirror_mode": {
    "name": "ipython",
    "version": 3
   },
   "file_extension": ".py",
   "mimetype": "text/x-python",
   "name": "python",
   "nbconvert_exporter": "python",
   "pygments_lexer": "ipython3",
   "version": "3.9.7"
  },
  "vscode": {
   "interpreter": {
    "hash": "de2cd0472f61adf887bfae5effa84b94e0ce5afbff6dfbcccb45b53ddf092f68"
   }
  }
 },
 "nbformat": 4,
 "nbformat_minor": 5
}
